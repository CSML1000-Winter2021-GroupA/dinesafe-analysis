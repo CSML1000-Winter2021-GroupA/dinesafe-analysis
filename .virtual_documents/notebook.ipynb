import os
import numpy as np
import pandas as pd
import xml.etree.ElementTree as ET


element_tree = ET.parse(os.path.join('data','ds.xml'))
xml_root = element_tree.getroot()
data_list = []
for establishment in xml_root:
    establistment_dist = {}
    for tag in establishment:
        if tag.tag != 'INSPECTION':
            establistment_dist[tag.tag.lower()] = tag.text.lower() 
    data_list.append(establistment_dist)
dinesafe_df = pd.DataFrame(data_list)

dinesafe_df



